{
 "cells": [
  {
   "cell_type": "code",
   "execution_count": 32,
   "metadata": {},
   "outputs": [
    {
     "name": "stdout",
     "output_type": "stream",
     "text": [
      "train_set_x_flatten shape: (12288, 209)\n",
      "train_set_y shape: (1, 209)\n",
      "test_set_x_flatten shape: (12288, 50)\n",
      "test_set_y shape: (1, 50)\n",
      "sanity check after reshaping: [17 31 56 22 33]\n",
      "Cost after iteration 0: 0.011789\n",
      "Cost after iteration 100: 0.010970\n",
      "Cost after iteration 200: 0.010852\n",
      "Cost after iteration 300: 0.010744\n",
      "Cost after iteration 400: 0.010645\n",
      "Cost after iteration 500: 0.010553\n",
      "Cost after iteration 600: 0.010468\n",
      "Cost after iteration 700: 0.010387\n",
      "Cost after iteration 800: 0.010311\n",
      "Cost after iteration 900: 0.010239\n",
      "Cost after iteration 1000: 0.010171\n",
      "Cost after iteration 1100: 0.010106\n",
      "Cost after iteration 1200: 0.010043\n",
      "Cost after iteration 1300: 0.009983\n",
      "Cost after iteration 1400: 0.009925\n",
      "Cost after iteration 1500: 0.009869\n",
      "Cost after iteration 1600: 0.009815\n",
      "Cost after iteration 1700: 0.009762\n",
      "Cost after iteration 1800: 0.009711\n",
      "Cost after iteration 1900: 0.009662\n",
      "train accuracy: 69.377990430622 %\n",
      "test accuracy: 38.0 %\n"
     ]
    },
    {
     "data": {
      "image/png": "[encoded data removed]",
      "text/plain": [
       "<matplotlib.figure.Figure at 0xb6abf50>"
      ]
     },
     "metadata": {},
     "output_type": "display_data"
    }
   ],
   "source": [
    "import numpy as np\n",
    "import matplotlib.pyplot as plt\n",
    "import h5py\n",
    "import scipy\n",
    "from PIL import Image\n",
    "from scipy import ndimage\n",
    "from lr_utils import load_dataset\n",
    "\n",
    "#%matplotlib inline\n",
    "def getOrigData():\n",
    "\t#get data\n",
    "\ttrain_set_x_orig, train_set_y, test_set_x_orig, test_set_y, classes = load_dataset()\n",
    "\t#Reshape to one dimension\n",
    "\ttrain_set_x_flatten = train_set_x_orig.reshape(train_set_x_orig.shape[0], -1).T\n",
    "\ttest_set_x_flatten = test_set_x_orig.reshape(test_set_x_orig.shape[0], -1).T\n",
    "\t#Show info\n",
    "\tprint (\"train_set_x_flatten shape: \" + str(train_set_x_flatten.shape))\n",
    "\tprint (\"train_set_y shape: \" + str(train_set_y.shape))\n",
    "\tprint (\"test_set_x_flatten shape: \" + str(test_set_x_flatten.shape))\n",
    "\tprint (\"test_set_y shape: \" + str(test_set_y.shape))\n",
    "\tprint (\"sanity check after reshaping: \" + str(train_set_x_flatten[0:5,0]))\n",
    "\t#Standardize\n",
    "\ttrain_set_x = train_set_x_flatten/255.\n",
    "\ttest_set_x = test_set_x_flatten/255.\n",
    "\n",
    "\treturn train_set_x,train_set_y,test_set_x,test_set_y,classes\n",
    "\n",
    "def showOneImage(index,image_set_x,image_set_y):\n",
    "\tplt.imshow(image_set[index])\n",
    "\tprint(\"y = \" + str(image_set_y[:, index]) + \", it's a '\" + classes[np.squeeze(image_set_y[:, index])].decode(\"utf-8\") +  \"' picture.\")\n",
    "\tplt.show()\n",
    "\n",
    "def sigmoid(z):\n",
    "\ts = 1 / (1 + np.exp(-z))\n",
    "\treturn s\n",
    "\n",
    "def initializeParams(dim):\n",
    "\t#dim = numLength,1=outputNum\n",
    "\tw = np.zeros((dim,1))\n",
    "\tb = 0\n",
    "\tassert(w.shape == (dim, 1))\n",
    "\tassert(isinstance(b, float) or isinstance(b, int))\n",
    "\treturn w,b\n",
    "\n",
    "def doPropagation(w,b,X,Y):\n",
    "\tm = X.shape[0]\n",
    "    print(b)\n",
    "\tz = np.dot(w.T,X)+b\n",
    "\tA = sigmoid(z)\n",
    "\tcost = -1 / m * np.sum(Y * np.log(A) + (1 - Y) * np.log(1 - A))\n",
    "\tdw = 1 / m * np.dot(X, (A - Y).T)\n",
    "\tdb = 1 / m * np.sum(A - Y)\n",
    "\tcost = np.squeeze(cost)\n",
    "\tassert(dw.shape == w.shape)\n",
    "\tassert(db.dtype == float)\n",
    "\tassert(cost.shape == ())\n",
    "\n",
    "\tgrids = {\n",
    "\t'dw':dw,\n",
    "\t'db':db\n",
    "\t}\n",
    "\treturn grids,cost\n",
    "\n",
    "def learnParams(w,b,X,Y,learn_times,learning_rate,show_flag=True):\n",
    "\tcosts = []\n",
    "\tfor i in range(learn_times):\n",
    "\t\tgrids,cost = doPropagation(w,b,X,Y)\n",
    "\n",
    "\t\tw = w - learning_rate*grids['dw']\n",
    "\t\tb = b - learning_rate*grids['db']\n",
    "\n",
    "\t\tif i%100 == 0:\n",
    "\t\t\tcosts.append(cost)\n",
    "\t\t\tif show_flag:\n",
    "\t\t\t\tprint(\"Cost after iteration %i: %f\" %(i, cost) )\n",
    "\tparams ={'w':w,'b':b}\n",
    "\n",
    "\treturn params,grids,costs\n",
    "\n",
    "def predict(w,b,X):\n",
    "\tm = X.shape[1]\n",
    "\ty_predict = np.zeros((1,m))\n",
    "\tA = sigmoid(np.dot(w.T,X)+b)\n",
    "\ty_predict[A>0.5] = 1\n",
    "\ty_predict[A<=0.5] = 0\n",
    "\tassert(y_predict.shape == (1, m))\n",
    "\treturn y_predict\n",
    "\n",
    "def model(X_train, Y_train, X_test, Y_test, num_iterations = 2000, learning_rate = 0.5, print_cost = False):\n",
    "\t#init\n",
    "\tdim = X_train.shape[0]\n",
    "\tw,b = initializeParams(dim)\n",
    "\n",
    "\tparams,grids,costs = learnParams(w,b,X_train,Y_train,num_iterations,learning_rate,print_cost)\n",
    "\n",
    "\tw = params['w']\n",
    "\tb = params['b']\n",
    "\tY_prediction_test = predict(w, b, X_test)\n",
    "\tY_prediction_train = predict(w, b, X_train)\n",
    "\n",
    "\tprint(\"train accuracy: {} %\".format(100 - np.mean(np.abs(Y_prediction_train - Y_train)) * 100))\n",
    "\tprint(\"test accuracy: {} %\".format(100 - np.mean(np.abs(Y_prediction_test - Y_test)) * 100))\n",
    "\n",
    "\td = {\"costs\": costs,\n",
    "\t\t\"Y_prediction_test\": Y_prediction_test, \n",
    "\t\t\"Y_prediction_train\" : Y_prediction_train, \n",
    "\t\t\"w\" : w, \n",
    "\t\t\"b\" : b,\n",
    "\t\t\"learning_rate\" : learning_rate,\n",
    "\t\t\"learn_times\": num_iterations}\n",
    "\n",
    "\tif print_cost:\n",
    "\t\tcosts = np.squeeze(d['costs'])\n",
    "\t\tplt.plot(costs)\n",
    "\t\tplt.ylabel('cost')\n",
    "\t\tplt.xlabel('iterations (per hundreds)')\n",
    "\t\tplt.title(\"Learning rate =\" + str(d[\"learning_rate\"]))\n",
    "\t\tplt.show()\n",
    "\treturn d\n",
    "\n",
    "train_set_x,train_set_y,test_set_x,test_set_y,classes = getOrigData()\n",
    "d = model(train_set_x, train_set_y, test_set_x, test_set_y, num_iterations = 2000, learning_rate = 0.005, print_cost = True)"
   ]
  },
  {
   "cell_type": "code",
   "execution_count": 30,
   "metadata": {},
   "outputs": [
    {
     "data": {
      "text/plain": [
       "array([[ 0.61960784,  0.45098039,  1.        , ...,  0.16078431,\n",
       "         0.07058824,  0.52156863],\n",
       "       [ 0.40784314,  0.43137255,  0.99215686, ...,  0.18431373,\n",
       "         0.07058824,  0.63921569],\n",
       "       [ 0.3254902 ,  0.43529412,  0.99607843, ...,  0.32941176,\n",
       "         0.0627451 ,  0.29411765],\n",
       "       ..., \n",
       "       [ 0.67843137,  0.67058824,  0.52156863, ...,  0.71764706,\n",
       "         0.56470588,  0.01960784],\n",
       "       [ 0.50196078,  0.69019608,  0.39607843, ...,  0.55294118,\n",
       "         0.5372549 ,  0.08627451],\n",
       "       [ 0.43137255,  0.72941176,  0.4745098 , ...,  0.45490196,\n",
       "         0.42352941,  0.01960784]])"
      ]
     },
     "execution_count": 30,
     "metadata": {},
     "output_type": "execute_result"
    }
   ],
   "source": [
    "test_set_x"
   ]
  },
  {
   "cell_type": "code",
   "execution_count": 12,
   "metadata": {},
   "outputs": [
    {
     "ename": "TypeError",
     "evalue": "data type not understood",
     "output_type": "error",
     "traceback": [
      "\u001b[1;31m---------------------------------------------------------------------------\u001b[0m",
      "\u001b[1;31mTypeError\u001b[0m                                 Traceback (most recent call last)",
      "\u001b[1;32m<ipython-input-12-4ef8b02edde8>\u001b[0m in \u001b[0;36m<module>\u001b[1;34m()\u001b[0m\n\u001b[1;32m----> 1\u001b[1;33m \u001b[0mw\u001b[0m\u001b[1;33m,\u001b[0m\u001b[0mb\u001b[0m \u001b[1;33m=\u001b[0m \u001b[0minitializeParams\u001b[0m\u001b[1;33m(\u001b[0m\u001b[0mdim\u001b[0m\u001b[1;33m)\u001b[0m\u001b[1;33m\u001b[0m\u001b[0m\n\u001b[0m",
      "\u001b[1;32m<ipython-input-8-893bce16131d>\u001b[0m in \u001b[0;36minitializeParams\u001b[1;34m(dim)\u001b[0m\n\u001b[0;32m     37\u001b[0m \u001b[1;32mdef\u001b[0m \u001b[0minitializeParams\u001b[0m\u001b[1;33m(\u001b[0m\u001b[0mdim\u001b[0m\u001b[1;33m)\u001b[0m\u001b[1;33m:\u001b[0m\u001b[1;33m\u001b[0m\u001b[0m\n\u001b[0;32m     38\u001b[0m         \u001b[1;31m#dim = numLength,1=outputNum\u001b[0m\u001b[1;33m\u001b[0m\u001b[1;33m\u001b[0m\u001b[0m\n\u001b[1;32m---> 39\u001b[1;33m         \u001b[0mw\u001b[0m \u001b[1;33m=\u001b[0m \u001b[0mnp\u001b[0m\u001b[1;33m.\u001b[0m\u001b[0mzeros\u001b[0m\u001b[1;33m(\u001b[0m\u001b[0mdim\u001b[0m\u001b[1;33m,\u001b[0m\u001b[1;36m1\u001b[0m\u001b[1;33m)\u001b[0m\u001b[1;33m\u001b[0m\u001b[0m\n\u001b[0m\u001b[0;32m     40\u001b[0m         \u001b[0mb\u001b[0m \u001b[1;33m=\u001b[0m \u001b[1;36m0\u001b[0m\u001b[1;33m\u001b[0m\u001b[0m\n\u001b[0;32m     41\u001b[0m         \u001b[1;32massert\u001b[0m\u001b[1;33m(\u001b[0m\u001b[0mw\u001b[0m\u001b[1;33m.\u001b[0m\u001b[0mshape\u001b[0m \u001b[1;33m==\u001b[0m \u001b[1;33m(\u001b[0m\u001b[0mdim\u001b[0m\u001b[1;33m,\u001b[0m \u001b[1;36m1\u001b[0m\u001b[1;33m)\u001b[0m\u001b[1;33m)\u001b[0m\u001b[1;33m\u001b[0m\u001b[0m\n",
      "\u001b[1;31mTypeError\u001b[0m: data type not understood"
     ]
    }
   ],
   "source": [
    "w,b = initializeParams(dim)"
   ]
  },
  {
   "cell_type": "code",
   "execution_count": null,
   "metadata": {},
   "outputs": [],
   "source": []
  }
 ],
 "metadata": {
  "kernelspec": {
   "display_name": "Python 3",
   "language": "python",
   "name": "python3"
  },
  "language_info": {
   "codemirror_mode": {
    "name": "ipython",
    "version": 3
   },
   "file_extension": ".py",
   "mimetype": "text/x-python",
   "name": "python",
   "nbconvert_exporter": "python",
   "pygments_lexer": "ipython3",
   "version": "3.6.1"
  }
 },
 "nbformat": 4,
 "nbformat_minor": 2
}
